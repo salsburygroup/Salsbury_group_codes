{
 "cells": [
  {
   "cell_type": "code",
   "execution_count": 1,
   "metadata": {},
   "outputs": [
    {
     "name": "stderr",
     "output_type": "stream",
     "text": [
      "/home/wud18/install/anaconda3/envs/py36/lib/python3.6/site-packages/scipy/__init__.py:115: UserWarning: Numpy 1.13.3 or above is required for this version of scipy (detected version 1.11.3)\n",
      "  UserWarning)\n"
     ]
    }
   ],
   "source": [
    "from Analysis import Distance, TrajectoryReader, Featurizer\n",
    "import pyemma.coordinates as coor\n",
    "import scipy.spatial.distance\n",
    "import mdtraj as md\n",
    "import numpy as np\n",
    "import argparse"
   ]
  },
  {
   "cell_type": "code",
   "execution_count": 2,
   "metadata": {},
   "outputs": [],
   "source": [
    "def median_structure(structure, trajectory):\n",
    "    trajectory_load = TrajectoryReader.DCD(topology_path=structure, trajectory_path=trajectory).load()\n",
    "    sumRMSD=np.zeros(trajectory_load.n_frames)\n",
    "    for i in range(trajectory_load.n_frames):\n",
    "        sumRMSD[i]=sum(rmsd(structure, trajectory, i))\n",
    "    return np.argmin(sumRMSD)\n",
    "\n",
    "\n",
    "def test(structure, trajectory):\n",
    "        trajectory_load = TrajectoryReader.DCD(topology_path=structure, trajectory_path=trajectory).load()\n",
    "        trajectory_2d = Featurizer.XYZ(trajectory=trajectory_load).extract()\n",
    "        cluster_string = np.arange(len(trajectory_load))\n",
    "        print(cluster_string)\n",
    "        #for i in range(0, int(max(self.labels)) + 1):\n",
    "            #directory = self.out_name + '/cluster' + str(i)\n",
    "            #os.makedirs(directory)\n",
    "            #cluster_string = self.labeled_traj.loc[self.labeled_traj['cluster'] == i].frame.values\n",
    "            #cluster_coords = trajectory_2d[cluster_string]\n",
    "        cluster_coords = trajectory_2d\n",
    "        mean = cluster_coords.mean(axis=0)\n",
    "        distance = [scipy.spatial.distance.euclidean(row, mean) for row in cluster_coords]\n",
    "            #rep = cluster_string[numpy.argmin(distance)]\n",
    "        rep = cluster_string[np.argmin(distance)]\n",
    "        print(rep)\n",
    "        trajectory_load[rep].save_pdb('./rep.pdb')\n",
    "        #trajectory_load[cluster_string].save_dcd('./all.dcd')\n",
    "            #self.trajectory[rep].save_pdb(directory + '/rep.pdb')\n",
    "            #self.trajectory[cluster_string].save_pdb(directory + '/all.pdb')\n",
    "            #self.trajectory[cluster_string].save_dcd(directory + '/all.dcd')"
   ]
  },
  {
   "cell_type": "code",
   "execution_count": 3,
   "metadata": {},
   "outputs": [
    {
     "name": "stdout",
     "output_type": "stream",
     "text": [
      "trajectory length =  2307\n",
      "number of dimension =  14241\n"
     ]
    }
   ],
   "source": [
    "path='/deac/salsburyGrp/wud18/md/double_binding/clustering/protein_stride100_regulatoryLoops/IMWKRescaled/clusters/cluster1/'\n",
    "# Loading structure and trajectory\n",
    "topfile = path+'rep.pdb'\n",
    "topology = md.load(topfile).topology\n",
    "trajfile = path+'all.dcd'\n",
    "feat = coor.featurizer(topfile)\n",
    "inp = coor.source(trajfile, feat)\n",
    "print('trajectory length = ',inp.trajectory_length(0))\n",
    "print('number of dimension = ',inp.dimension())"
   ]
  },
  {
   "cell_type": "code",
   "execution_count": 4,
   "metadata": {},
   "outputs": [
    {
     "name": "stdout",
     "output_type": "stream",
     "text": [
      "[   0    1    2 ..., 2304 2305 2306]\n"
     ]
    },
    {
     "name": "stderr",
     "output_type": "stream",
     "text": [
      "/home/wud18/install/anaconda3/envs/py36/lib/python3.6/site-packages/pyemma/__init__.py:92: UserWarning: You are not using the latest release of PyEMMA. Latest is 2.5.7, you have 2.5.6.\n",
      "  .format(latest=latest, current=current), category=UserWarning)\n"
     ]
    },
    {
     "name": "stdout",
     "output_type": "stream",
     "text": [
      "1497\n"
     ]
    }
   ],
   "source": [
    "test(topfile,trajfile)"
   ]
  },
  {
   "cell_type": "code",
   "execution_count": 5,
   "metadata": {},
   "outputs": [
    {
     "ename": "NameError",
     "evalue": "name 'rmsd' is not defined",
     "output_type": "error",
     "traceback": [
      "\u001b[0;31m---------------------------------------------------------------------------\u001b[0m",
      "\u001b[0;31mNameError\u001b[0m                                 Traceback (most recent call last)",
      "\u001b[0;32m<ipython-input-5-084542f1c018>\u001b[0m in \u001b[0;36m<module>\u001b[0;34m\u001b[0m\n\u001b[1;32m      1\u001b[0m \u001b[0;31m# Selecting the representative frame and frames within one sigma\u001b[0m\u001b[0;34m\u001b[0m\u001b[0;34m\u001b[0m\u001b[0;34m\u001b[0m\u001b[0m\n\u001b[0;32m----> 2\u001b[0;31m \u001b[0mrepresentativeFrame\u001b[0m\u001b[0;34m=\u001b[0m\u001b[0mmedian_structure\u001b[0m\u001b[0;34m(\u001b[0m\u001b[0mtopfile\u001b[0m\u001b[0;34m,\u001b[0m \u001b[0mtrajfile\u001b[0m\u001b[0;34m)\u001b[0m\u001b[0;34m\u001b[0m\u001b[0;34m\u001b[0m\u001b[0m\n\u001b[0m\u001b[1;32m      3\u001b[0m \u001b[0mframes\u001b[0m\u001b[0;34m=\u001b[0m\u001b[0mframes_within_sigma\u001b[0m\u001b[0;34m(\u001b[0m\u001b[0mtopfile\u001b[0m\u001b[0;34m,\u001b[0m \u001b[0mtrajfile\u001b[0m\u001b[0;34m)\u001b[0m\u001b[0;34m\u001b[0m\u001b[0;34m\u001b[0m\u001b[0m\n\u001b[1;32m      4\u001b[0m \u001b[0mframes_process\u001b[0m\u001b[0;34m=\u001b[0m\u001b[0;34m[\u001b[0m\u001b[0;34m]\u001b[0m\u001b[0;34m\u001b[0m\u001b[0;34m\u001b[0m\u001b[0m\n\u001b[1;32m      5\u001b[0m \u001b[0;32mfor\u001b[0m \u001b[0mi\u001b[0m \u001b[0;32min\u001b[0m \u001b[0mrange\u001b[0m\u001b[0;34m(\u001b[0m\u001b[0mlen\u001b[0m\u001b[0;34m(\u001b[0m\u001b[0mframes\u001b[0m\u001b[0;34m)\u001b[0m\u001b[0;34m)\u001b[0m\u001b[0;34m:\u001b[0m\u001b[0;34m\u001b[0m\u001b[0;34m\u001b[0m\u001b[0m\n",
      "\u001b[0;32m<ipython-input-2-1a6225c0ab68>\u001b[0m in \u001b[0;36mmedian_structure\u001b[0;34m(structure, trajectory)\u001b[0m\n\u001b[1;32m      3\u001b[0m     \u001b[0msumRMSD\u001b[0m\u001b[0;34m=\u001b[0m\u001b[0mnp\u001b[0m\u001b[0;34m.\u001b[0m\u001b[0mzeros\u001b[0m\u001b[0;34m(\u001b[0m\u001b[0mtrajectory_load\u001b[0m\u001b[0;34m.\u001b[0m\u001b[0mn_frames\u001b[0m\u001b[0;34m)\u001b[0m\u001b[0;34m\u001b[0m\u001b[0;34m\u001b[0m\u001b[0m\n\u001b[1;32m      4\u001b[0m     \u001b[0;32mfor\u001b[0m \u001b[0mi\u001b[0m \u001b[0;32min\u001b[0m \u001b[0mrange\u001b[0m\u001b[0;34m(\u001b[0m\u001b[0mtrajectory_load\u001b[0m\u001b[0;34m.\u001b[0m\u001b[0mn_frames\u001b[0m\u001b[0;34m)\u001b[0m\u001b[0;34m:\u001b[0m\u001b[0;34m\u001b[0m\u001b[0;34m\u001b[0m\u001b[0m\n\u001b[0;32m----> 5\u001b[0;31m         \u001b[0msumRMSD\u001b[0m\u001b[0;34m[\u001b[0m\u001b[0mi\u001b[0m\u001b[0;34m]\u001b[0m\u001b[0;34m=\u001b[0m\u001b[0msum\u001b[0m\u001b[0;34m(\u001b[0m\u001b[0mrmsd\u001b[0m\u001b[0;34m(\u001b[0m\u001b[0mstructure\u001b[0m\u001b[0;34m,\u001b[0m \u001b[0mtrajectory\u001b[0m\u001b[0;34m,\u001b[0m \u001b[0mi\u001b[0m\u001b[0;34m)\u001b[0m\u001b[0;34m)\u001b[0m\u001b[0;34m\u001b[0m\u001b[0;34m\u001b[0m\u001b[0m\n\u001b[0m\u001b[1;32m      6\u001b[0m     \u001b[0;32mreturn\u001b[0m \u001b[0mnp\u001b[0m\u001b[0;34m.\u001b[0m\u001b[0margmin\u001b[0m\u001b[0;34m(\u001b[0m\u001b[0msumRMSD\u001b[0m\u001b[0;34m)\u001b[0m\u001b[0;34m\u001b[0m\u001b[0;34m\u001b[0m\u001b[0m\n\u001b[1;32m      7\u001b[0m \u001b[0;34m\u001b[0m\u001b[0m\n",
      "\u001b[0;31mNameError\u001b[0m: name 'rmsd' is not defined"
     ]
    }
   ],
   "source": [
    "# Selecting the representative frame and frames within one sigma\n",
    "representativeFrame=median_structure(topfile, trajfile)\n",
    "frames=frames_within_sigma(topfile, trajfile)\n",
    "frames_process=[]\n",
    "for i in range(len(frames)):\n",
    "    frames_process.append([0,frames[i]])"
   ]
  },
  {
   "cell_type": "code",
   "execution_count": null,
   "metadata": {},
   "outputs": [],
   "source": [
    "# Saving the representative frame and frames within one sigma\n",
    "representative_frame = md.load_frame(trajfile,representativeFrame,top = topfile)\n",
    "representative_frame.save_pdb(UserInput.out_name1)\n",
    "coor.save_traj(inp, frames_process, UserInput.out_name2)"
   ]
  },
  {
   "cell_type": "code",
   "execution_count": null,
   "metadata": {},
   "outputs": [],
   "source": []
  },
  {
   "cell_type": "code",
   "execution_count": null,
   "metadata": {},
   "outputs": [],
   "source": []
  },
  {
   "cell_type": "code",
   "execution_count": null,
   "metadata": {},
   "outputs": [],
   "source": []
  },
  {
   "cell_type": "code",
   "execution_count": null,
   "metadata": {},
   "outputs": [],
   "source": []
  },
  {
   "cell_type": "code",
   "execution_count": null,
   "metadata": {},
   "outputs": [],
   "source": []
  },
  {
   "cell_type": "code",
   "execution_count": null,
   "metadata": {},
   "outputs": [],
   "source": []
  },
  {
   "cell_type": "code",
   "execution_count": null,
   "metadata": {},
   "outputs": [],
   "source": []
  },
  {
   "cell_type": "code",
   "execution_count": null,
   "metadata": {},
   "outputs": [],
   "source": []
  }
 ],
 "metadata": {
  "kernelspec": {
   "display_name": "Python 3",
   "language": "python",
   "name": "python3"
  },
  "language_info": {
   "codemirror_mode": {
    "name": "ipython",
    "version": 3
   },
   "file_extension": ".py",
   "mimetype": "text/x-python",
   "name": "python",
   "nbconvert_exporter": "python",
   "pygments_lexer": "ipython3",
   "version": "3.6.10"
  }
 },
 "nbformat": 4,
 "nbformat_minor": 4
}
