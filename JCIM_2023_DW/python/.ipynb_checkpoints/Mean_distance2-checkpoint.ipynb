{
 "cells": [
  {
   "cell_type": "code",
   "execution_count": 1,
   "metadata": {},
   "outputs": [
    {
     "name": "stderr",
     "output_type": "stream",
     "text": [
      "/home/wud18/install/anaconda3/envs/py36/lib/python3.6/site-packages/scipy/__init__.py:115: UserWarning: Numpy 1.13.3 or above is required for this version of scipy (detected version 1.11.3)\n",
      "  UserWarning)\n",
      "/home/wud18/install/anaconda3/envs/py36/lib/python3.6/site-packages/Bio/KDTree/__init__.py:25: BiopythonDeprecationWarning: Bio.KDTree has been deprecated, and we intend to remove it in a future release of Biopython. Please use Bio.PDB.kdtrees instead, which is functionally very similar.\n",
      "  BiopythonDeprecationWarning)\n",
      "/home/wud18/install/anaconda3/envs/py36/lib/python3.6/site-packages/MDAnalysis/due.py:88: UserWarning: No module named 'duecredit'\n",
      "  warnings.warn(str(err))\n",
      "/home/wud18/install/anaconda3/envs/py36/lib/python3.6/site-packages/sklearn/externals/six.py:31: FutureWarning: The module is deprecated in version 0.21 and will be removed in version 0.23 since we've dropped support for Python 2.7. Please rely on the official version of six (https://pypi.org/project/six/).\n",
      "  \"(https://pypi.org/project/six/).\", FutureWarning)\n",
      "/home/wud18/install/anaconda3/envs/py36/lib/python3.6/site-packages/sklearn/externals/joblib/__init__.py:15: FutureWarning: sklearn.externals.joblib is deprecated in 0.21 and will be removed in 0.23. Please import this functionality directly from joblib, which can be installed with: pip install joblib. If this warning is raised when loading pickled models, you may need to re-serialize those models with scikit-learn 0.21+.\n",
      "  warnings.warn(msg, category=FutureWarning)\n"
     ]
    }
   ],
   "source": [
    "import math\n",
    "import mdtraj\n",
    "import pandas as pd\n",
    "import MDAnalysis\n",
    "import argparse\n",
    "import numpy as np\n",
    "from scipy.spatial import distance\n",
    "import hdbscan\n",
    "import matplotlib.pyplot as plt\n",
    "from Analysis.Cluster import Clusterer, Saver\n",
    "import os\n",
    "from Analysis import Distance, Saver, TrajectoryReader, TrajectoryProcessor"
   ]
  },
  {
   "cell_type": "code",
   "execution_count": 2,
   "metadata": {},
   "outputs": [
    {
     "name": "stdout",
     "output_type": "stream",
     "text": [
      "[  3.14470315   3.77946162   3.78857422 ...,  50.11286163  50.37546158\n",
      "  50.76454544]\n"
     ]
    }
   ],
   "source": [
    "Mean_distance=np.loadtxt('/deac/salsburyGrp/wud18/md/double_binding/distance_CA/Mean_distance_CA.dat')\n",
    "b=Mean_distance.flatten()\n",
    "b.sort()\n",
    "b=b[43660:]\n",
    "print(b)"
   ]
  },
  {
   "cell_type": "code",
   "execution_count": 3,
   "metadata": {},
   "outputs": [],
   "source": [
    "bins=16\n",
    "interval=pd.cut(b, bins=bins,labels=False)"
   ]
  },
  {
   "cell_type": "code",
   "execution_count": 4,
   "metadata": {},
   "outputs": [
    {
     "name": "stdout",
     "output_type": "stream",
     "text": [
      "[ 0  0  0 ..., 15 15 15]\n"
     ]
    }
   ],
   "source": [
    "print(interval)"
   ]
  },
  {
   "cell_type": "code",
   "execution_count": 5,
   "metadata": {},
   "outputs": [],
   "source": [
    "transfer_entropy=np.loadtxt('/deac/salsburyGrp/wud18/md/double_binding/1/transfer_entropy_max/transfer_entropy_Na_stride1_0.1/transfer_entropy.dat')"
   ]
  },
  {
   "cell_type": "code",
   "execution_count": 6,
   "metadata": {},
   "outputs": [
    {
     "name": "stdout",
     "output_type": "stream",
     "text": [
      "[[ 0.          0.02721781  0.02251502 ...,  0.00979735  0.00720468\n",
      "   0.00655792]\n",
      " [ 0.03389053  0.          0.02768118 ...,  0.0099199   0.006475\n",
      "   0.00593097]\n",
      " [ 0.02403613  0.02337223  0.         ...,  0.01383896  0.01106831\n",
      "   0.01087338]\n",
      " ..., \n",
      " [ 0.00432501  0.0033771   0.01005806 ...,  0.          0.01130343\n",
      "   0.01093185]\n",
      " [ 0.00424852  0.00312607  0.00926141 ...,  0.01217764  0.          0.01163149]\n",
      " [ 0.00422108  0.00285009  0.00904343 ...,  0.01088966  0.01190746  0.        ]]\n"
     ]
    }
   ],
   "source": [
    "print(transfer_entropy)"
   ]
  },
  {
   "cell_type": "code",
   "execution_count": 7,
   "metadata": {},
   "outputs": [
    {
     "name": "stdout",
     "output_type": "stream",
     "text": [
      "[[  0.           3.85493708   6.15183401 ...,  17.75079727  15.01124382\n",
      "   15.81896591]\n",
      " [  0.           0.           3.84728217 ...,  17.34590912  14.74819183\n",
      "   15.94951153]\n",
      " [  0.           0.           0.         ...,  17.64579391  15.08528614\n",
      "   16.49374008]\n",
      " ..., \n",
      " [  0.           0.           0.         ...,   0.           3.84538841\n",
      "    6.1348815 ]\n",
      " [  0.           0.           0.         ...,   0.           0.\n",
      "    3.80774164]\n",
      " [  0.           0.           0.         ...,   0.           0.           0.        ]]\n"
     ]
    }
   ],
   "source": [
    "print(Mean_distance)"
   ]
  },
  {
   "cell_type": "code",
   "execution_count": 8,
   "metadata": {},
   "outputs": [
    {
     "name": "stdout",
     "output_type": "stream",
     "text": [
      "[[ 0.          0.06110835  0.04655115 ...,  0.01412236  0.01145319\n",
      "   0.010779  ]\n",
      " [ 0.06110835  0.          0.05105342 ...,  0.013297    0.00960108\n",
      "   0.00878106]\n",
      " [ 0.04655115  0.05105342  0.         ...,  0.02389702  0.02032972\n",
      "   0.01991681]\n",
      " ..., \n",
      " [ 0.01412236  0.013297    0.02389702 ...,  0.          0.02348107\n",
      "   0.02182151]\n",
      " [ 0.01145319  0.00960108  0.02032972 ...,  0.02348107  0.          0.02353895]\n",
      " [ 0.010779    0.00878106  0.01991681 ...,  0.02182151  0.02353895  0.        ]]\n"
     ]
    }
   ],
   "source": [
    "transfer_entropy_triangle=transfer_entropy+transfer_entropy.T\n",
    "print(transfer_entropy_triangle)"
   ]
  },
  {
   "cell_type": "code",
   "execution_count": 9,
   "metadata": {},
   "outputs": [
    {
     "name": "stderr",
     "output_type": "stream",
     "text": [
      "/home/wud18/install/anaconda3/envs/py36/lib/python3.6/site-packages/pyemma/__init__.py:92: UserWarning: You are not using the latest release of PyEMMA. Latest is 2.5.7, you have 2.5.6.\n",
      "  .format(latest=latest, current=current), category=UserWarning)\n"
     ]
    }
   ],
   "source": [
    "index=[]\n",
    "transfer_entropy_diagonal=[]\n",
    "Mean_distance_diagonal=[]\n",
    "for i in range(295):\n",
    "    for j in range(i+1,295):\n",
    "        index.append([i+1,j+1])\n",
    "        Mean_distance_diagonal.append(Mean_distance[i][j])\n",
    "        transfer_entropy_diagonal.append(transfer_entropy_triangle[i][j])"
   ]
  },
  {
   "cell_type": "code",
   "execution_count": 10,
   "metadata": {},
   "outputs": [],
   "source": [
    "df=pd.DataFrame()"
   ]
  },
  {
   "cell_type": "code",
   "execution_count": 16,
   "metadata": {},
   "outputs": [
    {
     "data": {
      "text/plain": [
       "0          (3.097, 6.121]\n",
       "1          (6.121, 9.097]\n",
       "2          (6.121, 9.097]\n",
       "3          (6.121, 9.097]\n",
       "4         (9.097, 12.073]\n",
       "5         (9.097, 12.073]\n",
       "6         (9.097, 12.073]\n",
       "7         (12.073, 15.05]\n",
       "8         (15.05, 18.026]\n",
       "9         (15.05, 18.026]\n",
       "10       (18.026, 21.002]\n",
       "11       (18.026, 21.002]\n",
       "12       (21.002, 23.978]\n",
       "13       (23.978, 26.955]\n",
       "14       (21.002, 23.978]\n",
       "15       (21.002, 23.978]\n",
       "16       (23.978, 26.955]\n",
       "17       (26.955, 29.931]\n",
       "18       (26.955, 29.931]\n",
       "19       (26.955, 29.931]\n",
       "20       (26.955, 29.931]\n",
       "21       (29.931, 32.907]\n",
       "22       (29.931, 32.907]\n",
       "23       (26.955, 29.931]\n",
       "24       (29.931, 32.907]\n",
       "25       (29.931, 32.907]\n",
       "26       (26.955, 29.931]\n",
       "27       (26.955, 29.931]\n",
       "28       (29.931, 32.907]\n",
       "29       (29.931, 32.907]\n",
       "               ...       \n",
       "43335     (9.097, 12.073]\n",
       "43336     (12.073, 15.05]\n",
       "43337      (3.097, 6.121]\n",
       "43338      (3.097, 6.121]\n",
       "43339      (3.097, 6.121]\n",
       "43340      (3.097, 6.121]\n",
       "43341      (6.121, 9.097]\n",
       "43342     (9.097, 12.073]\n",
       "43343     (12.073, 15.05]\n",
       "43344      (3.097, 6.121]\n",
       "43345      (3.097, 6.121]\n",
       "43346      (3.097, 6.121]\n",
       "43347      (3.097, 6.121]\n",
       "43348      (6.121, 9.097]\n",
       "43349     (9.097, 12.073]\n",
       "43350      (3.097, 6.121]\n",
       "43351      (3.097, 6.121]\n",
       "43352      (3.097, 6.121]\n",
       "43353      (3.097, 6.121]\n",
       "43354      (6.121, 9.097]\n",
       "43355      (3.097, 6.121]\n",
       "43356      (3.097, 6.121]\n",
       "43357      (3.097, 6.121]\n",
       "43358      (6.121, 9.097]\n",
       "43359      (3.097, 6.121]\n",
       "43360      (3.097, 6.121]\n",
       "43361      (6.121, 9.097]\n",
       "43362      (3.097, 6.121]\n",
       "43363      (6.121, 9.097]\n",
       "43364      (3.097, 6.121]\n",
       "Name: Mean_distance, Length: 43365, dtype: category\n",
       "Categories (16, interval[float64]): [(3.097, 6.121] < (6.121, 9.097] < (9.097, 12.073] < (12.073, 15.05] ... (38.86, 41.836] < (41.836, 44.812] < (44.812, 47.788] < (47.788, 50.765]]"
      ]
     },
     "execution_count": 16,
     "metadata": {},
     "output_type": "execute_result"
    }
   ],
   "source": [
    "pd.cut(df['Mean_distance'],bins=bins)"
   ]
  },
  {
   "cell_type": "code",
   "execution_count": 11,
   "metadata": {},
   "outputs": [],
   "source": [
    "bins=16\n",
    "df['index']=index\n",
    "df['Mean_distance']=Mean_distance_diagonal\n",
    "df['transfer_entropy']=transfer_entropy_diagonal\n",
    "df['Categories']=pd.cut(df['Mean_distance'],bins=bins)\n",
    "df['Labels']=pd.cut(df['Mean_distance'],bins=bins,labels=False)"
   ]
  },
  {
   "cell_type": "code",
   "execution_count": 12,
   "metadata": {},
   "outputs": [
    {
     "name": "stdout",
     "output_type": "stream",
     "text": [
      "            index  Mean_distance  transfer_entropy        Categories  Labels\n",
      "0          [1, 2]       3.854937          0.061108    (3.097, 6.121]       0\n",
      "1          [1, 3]       6.151834          0.046551    (6.121, 9.097]       1\n",
      "2          [1, 4]       7.427765          0.078277    (6.121, 9.097]       1\n",
      "3          [1, 5]       8.815497          0.072639    (6.121, 9.097]       1\n",
      "4          [1, 6]       9.264401          0.066402   (9.097, 12.073]       2\n",
      "5          [1, 7]       9.834782          0.051043   (9.097, 12.073]       2\n",
      "6          [1, 8]      11.226725          0.031907   (9.097, 12.073]       2\n",
      "7          [1, 9]      12.813449          0.050858   (12.073, 15.05]       3\n",
      "8         [1, 10]      15.684935          0.059815   (15.05, 18.026]       4\n",
      "9         [1, 11]      16.964649          0.052241   (15.05, 18.026]       4\n",
      "10        [1, 12]      19.637281          0.038596  (18.026, 21.002]       5\n",
      "11        [1, 13]      19.758318          0.050700  (18.026, 21.002]       5\n",
      "12        [1, 14]      22.979015          0.021136  (21.002, 23.978]       6\n",
      "13        [1, 15]      24.090261          0.025585  (23.978, 26.955]       7\n",
      "14        [1, 16]      22.760639          0.060113  (21.002, 23.978]       6\n",
      "15        [1, 17]      23.703712          0.082267  (21.002, 23.978]       6\n",
      "16        [1, 18]      26.888609          0.077311  (23.978, 26.955]       7\n",
      "17        [1, 19]      27.351509          0.060872  (26.955, 29.931]       8\n",
      "18        [1, 20]      28.223289          0.041927  (26.955, 29.931]       8\n",
      "19        [1, 21]      28.979893          0.033602  (26.955, 29.931]       8\n",
      "20        [1, 22]      29.067354          0.034903  (26.955, 29.931]       8\n",
      "21        [1, 23]      31.899149          0.035316  (29.931, 32.907]       9\n",
      "22        [1, 24]      31.144438          0.045402  (29.931, 32.907]       9\n",
      "23        [1, 25]      28.319588          0.043704  (26.955, 29.931]       8\n",
      "24        [1, 26]      30.215616          0.029737  (29.931, 32.907]       9\n",
      "25        [1, 27]      32.090584          0.034640  (29.931, 32.907]       9\n",
      "26        [1, 28]      29.557884          0.037211  (26.955, 29.931]       8\n",
      "27        [1, 29]      28.592051          0.033446  (26.955, 29.931]       8\n",
      "28        [1, 30]      31.796974          0.025108  (29.931, 32.907]       9\n",
      "29        [1, 31]      32.159222          0.027944  (29.931, 32.907]       9\n",
      "...           ...            ...               ...               ...     ...\n",
      "43335  [287, 294]      10.117237          0.011852   (9.097, 12.073]       2\n",
      "43336  [287, 295]      13.179475          0.010885   (12.073, 15.05]       3\n",
      "43337  [288, 289]       3.852229          0.015989    (3.097, 6.121]       0\n",
      "43338  [288, 290]       5.523736          0.018572    (3.097, 6.121]       0\n",
      "43339  [288, 291]       5.125061          0.017052    (3.097, 6.121]       0\n",
      "43340  [288, 292]       6.063828          0.017726    (3.097, 6.121]       0\n",
      "43341  [288, 293]       8.458187          0.015343    (6.121, 9.097]       1\n",
      "43342  [288, 294]       9.654173          0.012722   (9.097, 12.073]       2\n",
      "43343  [288, 295]      12.759257          0.012252   (12.073, 15.05]       3\n",
      "43344  [289, 290]       3.851879          0.016753    (3.097, 6.121]       0\n",
      "43345  [289, 291]       5.497624          0.017298    (3.097, 6.121]       0\n",
      "43346  [289, 292]       5.254348          0.018552    (3.097, 6.121]       0\n",
      "43347  [289, 293]       5.846586          0.017306    (3.097, 6.121]       0\n",
      "43348  [289, 294]       7.573838          0.015452    (6.121, 9.097]       1\n",
      "43349  [289, 295]      10.695099          0.014157   (9.097, 12.073]       2\n",
      "43350  [290, 291]       3.846954          0.010229    (3.097, 6.121]       0\n",
      "43351  [290, 292]       5.683326          0.014944    (3.097, 6.121]       0\n",
      "43352  [290, 293]       5.608144          0.016333    (3.097, 6.121]       0\n",
      "43353  [290, 294]       5.110929          0.016594    (3.097, 6.121]       0\n",
      "43354  [290, 295]       8.318047          0.014555    (6.121, 9.097]       1\n",
      "43355  [291, 292]       3.845336          0.010739    (3.097, 6.121]       0\n",
      "43356  [291, 293]       5.934626          0.015052    (3.097, 6.121]       0\n",
      "43357  [291, 294]       5.646430          0.015093    (3.097, 6.121]       0\n",
      "43358  [291, 295]       8.525660          0.013817    (6.121, 9.097]       1\n",
      "43359  [292, 293]       3.829212          0.015283    (3.097, 6.121]       0\n",
      "43360  [292, 294]       5.926422          0.017520    (3.097, 6.121]       0\n",
      "43361  [292, 295]       8.443372          0.015604    (6.121, 9.097]       1\n",
      "43362  [293, 294]       3.845388          0.016251    (3.097, 6.121]       0\n",
      "43363  [293, 295]       6.134881          0.022582    (6.121, 9.097]       1\n",
      "43364  [294, 295]       3.807742          0.027060    (3.097, 6.121]       0\n",
      "\n",
      "[43365 rows x 5 columns]\n"
     ]
    }
   ],
   "source": [
    "print(df)"
   ]
  },
  {
   "cell_type": "code",
   "execution_count": 13,
   "metadata": {},
   "outputs": [],
   "source": [
    "Hist=[[],[],[],[],[],[],[],[],[],[],[],[],[],[],[],[]]\n",
    "count=[0,0,0,0,0,0,0,0,0,0,0,0,0,0,0,0]\n",
    "\n",
    "for i in range(43365):\n",
    "    if df['Labels'][i]==0:\n",
    "        count[0]=count[0]+1\n",
    "        Hist[0].append(df['transfer_entropy'][i])\n",
    "    elif df['Labels'][i]==1:\n",
    "        count[1]=count[1]+1\n",
    "        Hist[1].append(df['transfer_entropy'][i])\n",
    "    elif df['Labels'][i]==2:\n",
    "        count[2]=count[2]+1\n",
    "        Hist[2].append(df['transfer_entropy'][i])\n",
    "    elif df['Labels'][i]==3:\n",
    "        count[3]=count[3]+1\n",
    "        Hist[3].append(df['transfer_entropy'][i])\n",
    "    elif df['Labels'][i]==4:\n",
    "        count[4]=count[4]+1\n",
    "        Hist[4].append(df['transfer_entropy'][i])\n",
    "    elif df['Labels'][i]==5:\n",
    "        count[5]=count[5]+1\n",
    "        Hist[5].append(df['transfer_entropy'][i])\n",
    "    elif df['Labels'][i]==6:\n",
    "        count[6]=count[6]+1\n",
    "        Hist[6].append(df['transfer_entropy'][i])\n",
    "    elif df['Labels'][i]==7:\n",
    "        count[7]=count[7]+1\n",
    "        Hist[7].append(df['transfer_entropy'][i])\n",
    "    elif df['Labels'][i]==8:\n",
    "        count[8]=count[8]+1\n",
    "        Hist[8].append(df['transfer_entropy'][i])\n",
    "    elif df['Labels'][i]==9:\n",
    "        count[9]=count[9]+1\n",
    "        Hist[9].append(df['transfer_entropy'][i])\n",
    "    elif df['Labels'][i]==10:\n",
    "        count[10]=count[10]+1\n",
    "        Hist[10].append(df['transfer_entropy'][i])\n",
    "    elif df['Labels'][i]==11:\n",
    "        count[11]=count[11]+1\n",
    "        Hist[11].append(df['transfer_entropy'][i])\n",
    "    elif df['Labels'][i]==12:\n",
    "        count[12]=count[12]+1\n",
    "        Hist[12].append(df['transfer_entropy'][i])\n",
    "    elif df['Labels'][i]==13:\n",
    "        count[13]=count[13]+1\n",
    "        Hist[13].append(df['transfer_entropy'][i])\n",
    "    elif df['Labels'][i]==14:\n",
    "        count[14]=count[14]+1\n",
    "        Hist[14].append(df['transfer_entropy'][i])\n",
    "    elif df['Labels'][i]==15:\n",
    "        count[15]=count[15]+1\n",
    "        Hist[15].append(df['transfer_entropy'][i])"
   ]
  },
  {
   "cell_type": "code",
   "execution_count": 14,
   "metadata": {},
   "outputs": [
    {
     "name": "stdout",
     "output_type": "stream",
     "text": [
      "[19.339362774458319, 28.553320893002159, 52.559298834239328, 72.367294523153589, 84.270564481772496, 93.262278524463312, 94.558183301006238, 92.930242988834237, 83.754405067659761, 71.148591957789108, 53.604935142545017, 37.152812425992479, 22.509969399158337, 11.156586653601988, 3.1535597990966231, 0.44982207118889894]\n",
      "[0.026134274019538269, 0.024572565312394285, 0.021505441421538186, 0.020293688873570831, 0.019301549354505839, 0.018615225254383895, 0.01795294917429395, 0.017600424808491333, 0.017923048377414885, 0.018164052069897654, 0.018067049255997645, 0.018247943234770372, 0.018758307832631948, 0.020247888663524477, 0.020215126917286046, 0.014994069039629965]\n"
     ]
    }
   ],
   "source": [
    "Hist_sum=[[],[],[],[],[],[],[],[],[],[],[],[],[],[],[],[]]\n",
    "Hist_average=[[],[],[],[],[],[],[],[],[],[],[],[],[],[],[],[]]\n",
    "for i in range(16):\n",
    "    Hist_sum[i]=np.sum(Hist[i])\n",
    "    Hist_average[i]=Hist_sum[i]/count[i]\n",
    "print(Hist_sum)\n",
    "print(Hist_average)\n",
    "#Hist_prob=Hist_sum/np.sum(Hist_sum)\n",
    "#print(Hist_prob)"
   ]
  },
  {
   "cell_type": "code",
   "execution_count": 15,
   "metadata": {},
   "outputs": [],
   "source": [
    "fig1=plt.figure(1,figsize=(16,4))\n",
    "plt.plot(Hist_average)\n",
    "plt.title('Hist_average')\n",
    "plt.xlabel('Distance (Å)')\n",
    "plt.ylabel('Frequency')\n",
    "fig1.savefig('Hist_average.png', pad_inches=0.03, bbox_inches='tight', dpi=200)"
   ]
  },
  {
   "cell_type": "code",
   "execution_count": null,
   "metadata": {},
   "outputs": [],
   "source": []
  },
  {
   "cell_type": "code",
   "execution_count": null,
   "metadata": {},
   "outputs": [],
   "source": []
  },
  {
   "cell_type": "code",
   "execution_count": null,
   "metadata": {},
   "outputs": [],
   "source": []
  },
  {
   "cell_type": "code",
   "execution_count": null,
   "metadata": {},
   "outputs": [],
   "source": []
  },
  {
   "cell_type": "code",
   "execution_count": null,
   "metadata": {},
   "outputs": [],
   "source": []
  },
  {
   "cell_type": "code",
   "execution_count": null,
   "metadata": {},
   "outputs": [],
   "source": []
  },
  {
   "cell_type": "code",
   "execution_count": null,
   "metadata": {},
   "outputs": [],
   "source": []
  },
  {
   "cell_type": "code",
   "execution_count": null,
   "metadata": {},
   "outputs": [],
   "source": [
    "fig1=plt.figure(1,figsize=(8,6))\n",
    "plt.pcolor(Tij.T, cmap='jet', vmin=0, vmax=0.08)\n",
    "cbar=plt.colorbar()\n",
    "plt.title('test')\n",
    "plt.xlabel('residue number (entropy donor)')\n",
    "plt.ylabel('residue number (entropy acceptor)')"
   ]
  }
 ],
 "metadata": {
  "kernelspec": {
   "display_name": "Python 3",
   "language": "python",
   "name": "python3"
  },
  "language_info": {
   "codemirror_mode": {
    "name": "ipython",
    "version": 3
   },
   "file_extension": ".py",
   "mimetype": "text/x-python",
   "name": "python",
   "nbconvert_exporter": "python",
   "pygments_lexer": "ipython3",
   "version": "3.6.10"
  }
 },
 "nbformat": 4,
 "nbformat_minor": 4
}
