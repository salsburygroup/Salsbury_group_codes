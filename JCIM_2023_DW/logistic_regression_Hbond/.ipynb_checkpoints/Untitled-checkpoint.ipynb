{
 "cells": [
  {
   "cell_type": "code",
   "execution_count": 1,
   "metadata": {},
   "outputs": [],
   "source": [
    "import numpy as np"
   ]
  },
  {
   "cell_type": "code",
   "execution_count": 13,
   "metadata": {},
   "outputs": [],
   "source": [
    "data=np.genfromtxt(\"/deac/salsburyGrp/wud18/md/TM/hbond_stride100_trajectory.csv\", delimiter=',')"
   ]
  },
  {
   "cell_type": "code",
   "execution_count": 59,
   "metadata": {},
   "outputs": [
    {
     "name": "stdout",
     "output_type": "stream",
     "text": [
      "[ nan  nan  nan ...,  nan  nan  nan]\n"
     ]
    }
   ],
   "source": [
    "print(data[0])"
   ]
  },
  {
   "cell_type": "code",
   "execution_count": 17,
   "metadata": {},
   "outputs": [
    {
     "data": {
      "text/plain": [
       "numpy.ndarray"
      ]
     },
     "execution_count": 17,
     "metadata": {},
     "output_type": "execute_result"
    }
   ],
   "source": [
    "type(data)"
   ]
  },
  {
   "cell_type": "code",
   "execution_count": 18,
   "metadata": {},
   "outputs": [
    {
     "data": {
      "text/plain": [
       "16001"
      ]
     },
     "execution_count": 18,
     "metadata": {},
     "output_type": "execute_result"
    }
   ],
   "source": [
    "len(data)"
   ]
  },
  {
   "cell_type": "code",
   "execution_count": 29,
   "metadata": {},
   "outputs": [],
   "source": [
    "data_new=data[1:16001]"
   ]
  },
  {
   "cell_type": "code",
   "execution_count": 30,
   "metadata": {},
   "outputs": [
    {
     "data": {
      "text/plain": [
       "16000"
      ]
     },
     "execution_count": 30,
     "metadata": {},
     "output_type": "execute_result"
    }
   ],
   "source": [
    "len(data_new)"
   ]
  },
  {
   "cell_type": "code",
   "execution_count": 33,
   "metadata": {},
   "outputs": [],
   "source": [
    "data_sum=np.sum(data_new, axis=0)"
   ]
  },
  {
   "cell_type": "code",
   "execution_count": 34,
   "metadata": {},
   "outputs": [
    {
     "data": {
      "text/plain": [
       "2217"
      ]
     },
     "execution_count": 34,
     "metadata": {},
     "output_type": "execute_result"
    }
   ],
   "source": [
    "len(data_sum)"
   ]
  },
  {
   "cell_type": "code",
   "execution_count": 35,
   "metadata": {},
   "outputs": [],
   "source": [
    "percentHbond=data_sum/len(data_new)"
   ]
  },
  {
   "cell_type": "code",
   "execution_count": 36,
   "metadata": {},
   "outputs": [
    {
     "name": "stdout",
     "output_type": "stream",
     "text": [
      "[  8.97500000e-02   8.30625000e-02   1.05000000e-02 ...,   1.25000000e-04\n",
      "   6.25000000e-05   6.25000000e-05]\n"
     ]
    }
   ],
   "source": [
    "print(percentHbond)"
   ]
  },
  {
   "cell_type": "code",
   "execution_count": 37,
   "metadata": {},
   "outputs": [
    {
     "name": "stdout",
     "output_type": "stream",
     "text": [
      "[  1.43600000e+03   1.32900000e+03   1.68000000e+02 ...,   2.00000000e+00\n",
      "   1.00000000e+00   1.00000000e+00]\n"
     ]
    }
   ],
   "source": [
    "print(data_sum)"
   ]
  },
  {
   "cell_type": "code",
   "execution_count": 38,
   "metadata": {},
   "outputs": [
    {
     "data": {
      "text/plain": [
       "16000.0"
      ]
     },
     "execution_count": 38,
     "metadata": {},
     "output_type": "execute_result"
    }
   ],
   "source": [
    "np.max(data_sum)"
   ]
  },
  {
   "cell_type": "code",
   "execution_count": 47,
   "metadata": {},
   "outputs": [],
   "source": [
    "percentHbond_sort=-np.sort(-percentHbond)"
   ]
  },
  {
   "cell_type": "code",
   "execution_count": 48,
   "metadata": {},
   "outputs": [
    {
     "name": "stdout",
     "output_type": "stream",
     "text": [
      "[  1.00000000e+00   9.99875000e-01   9.99875000e-01 ...,   6.25000000e-05\n",
      "   6.25000000e-05   6.25000000e-05]\n"
     ]
    }
   ],
   "source": [
    "print(percentHbond_sort)"
   ]
  },
  {
   "cell_type": "code",
   "execution_count": 53,
   "metadata": {},
   "outputs": [
    {
     "data": {
      "text/plain": [
       "2217"
      ]
     },
     "execution_count": 53,
     "metadata": {},
     "output_type": "execute_result"
    }
   ],
   "source": [
    "len(percentHbond_sort)"
   ]
  },
  {
   "cell_type": "code",
   "execution_count": 58,
   "metadata": {},
   "outputs": [
    {
     "data": {
      "text/plain": [
       "array([ 0.878    ,  0.87675  ,  0.875375 ,  0.8748125,  0.8621875,\n",
       "        0.861125 ,  0.8561875,  0.848875 ,  0.84825  ,  0.8460625,\n",
       "        0.8444375,  0.84375  ,  0.8435   ,  0.840375 ,  0.83975  ,\n",
       "        0.836375 ,  0.8351875,  0.83175  ,  0.8315625,  0.82825  ,\n",
       "        0.817875 ,  0.7988125,  0.797875 ,  0.79425  ,  0.78775  ,\n",
       "        0.7855   ,  0.7785   ,  0.7755625,  0.7699375,  0.7664375,\n",
       "        0.75475  ,  0.752125 ,  0.7506875,  0.74875  ,  0.7461875,\n",
       "        0.7455625,  0.7453125,  0.738125 ,  0.7366875,  0.72575  ,\n",
       "        0.7181875,  0.71775  ,  0.706375 ,  0.7051875,  0.703375 ,\n",
       "        0.6968125,  0.6935625,  0.6930625,  0.6895625,  0.68475  ,\n",
       "        0.683625 ,  0.6829375,  0.6775   ,  0.6678125,  0.66725  ,\n",
       "        0.6579375,  0.6575625,  0.6566875,  0.6564375,  0.6536875,\n",
       "        0.6508125,  0.642625 ,  0.63575  ,  0.6328125,  0.62425  ,\n",
       "        0.6233125,  0.6186875,  0.6180625,  0.6170625,  0.617    ,\n",
       "        0.6163125,  0.6136875,  0.6131875,  0.61275  ,  0.6083125,\n",
       "        0.6008125,  0.5945   ,  0.59225  ,  0.586125 ,  0.5845   ,\n",
       "        0.5819375,  0.575    ,  0.5723125,  0.571375 ,  0.5660625,\n",
       "        0.565875 ,  0.5591875,  0.5566875,  0.5524375,  0.549625 ,\n",
       "        0.541375 ,  0.538875 ,  0.536625 ,  0.5309375,  0.5271875,\n",
       "        0.525375 ,  0.5238125,  0.5220625,  0.51975  ,  0.5145   ,\n",
       "        0.5099375,  0.504    ,  0.502125 ,  0.4998125,  0.4989375,\n",
       "        0.492625 ,  0.4905625,  0.490375 ,  0.483375 ,  0.483125 ,\n",
       "        0.481625 ,  0.480125 ,  0.4795625,  0.4789375,  0.478375 ,\n",
       "        0.46575  ,  0.4626875,  0.4579375,  0.457375 ,  0.448375 ,\n",
       "        0.4445   ,  0.4445   ,  0.4430625,  0.4406875,  0.43775  ,\n",
       "        0.4361875,  0.426625 ,  0.4255625,  0.42025  ,  0.4156875,\n",
       "        0.413625 ,  0.4009375,  0.3961875,  0.3951875,  0.3935   ,\n",
       "        0.393    ,  0.391875 ,  0.3878125,  0.384625 ,  0.3765625,\n",
       "        0.3744375,  0.36675  ,  0.3611875,  0.35575  ,  0.3489375,\n",
       "        0.3453125,  0.3435625,  0.34325  ,  0.3429375,  0.332375 ,\n",
       "        0.33175  ,  0.3315   ,  0.3296875,  0.326875 ,  0.3249375,\n",
       "        0.3228125,  0.3213125,  0.3205   ,  0.319    ,  0.316875 ,\n",
       "        0.3166875,  0.31525  ,  0.3149375,  0.3139375,  0.30675  ,\n",
       "        0.295625 ,  0.288625 ,  0.2880625,  0.287625 ,  0.28025  ,\n",
       "        0.27975  ,  0.2784375,  0.278125 ,  0.2754375,  0.2745   ,\n",
       "        0.272125 ,  0.2711875,  0.2693125,  0.263375 ,  0.2628125,\n",
       "        0.261    ,  0.2601875,  0.2585625,  0.2580625,  0.2564375,\n",
       "        0.2551875,  0.2541875,  0.254125 ,  0.2519375,  0.251375 ,\n",
       "        0.2509375,  0.2494375,  0.248    ,  0.2479375,  0.240625 ,\n",
       "        0.2400625,  0.234    ,  0.229625 ,  0.22925  ,  0.226125 ,\n",
       "        0.2250625,  0.2223125,  0.2220625,  0.222    ,  0.22175  ,\n",
       "        0.2213125,  0.22075  ,  0.2200625,  0.218875 ,  0.216875 ,\n",
       "        0.214125 ,  0.212875 ,  0.212625 ,  0.2114375,  0.21025  ,\n",
       "        0.2095625,  0.208125 ,  0.2058125,  0.2049375,  0.204    ,\n",
       "        0.2036875,  0.2011875,  0.19975  ,  0.1980625,  0.198    ,\n",
       "        0.193625 ,  0.1915625,  0.190875 ,  0.18925  ,  0.1888125,\n",
       "        0.17975  ,  0.1789375,  0.1758125,  0.173    ,  0.1696875,\n",
       "        0.1684375,  0.168125 ,  0.1676875,  0.1676875,  0.167375 ,\n",
       "        0.1655625,  0.1650625,  0.16425  ,  0.1639375,  0.163875 ,\n",
       "        0.160125 ,  0.158375 ,  0.1571875,  0.1571875,  0.1524375,\n",
       "        0.14825  ,  0.146625 ,  0.146375 ,  0.1463125,  0.1459375,\n",
       "        0.1458125,  0.143875 ,  0.1434375,  0.141375 ,  0.1410625,\n",
       "        0.13925  ,  0.138125 ,  0.133375 ,  0.13325  ,  0.13275  ,\n",
       "        0.1326875,  0.1303125,  0.12925  ,  0.1280625,  0.128    ,\n",
       "        0.1278125,  0.1269375,  0.126875 ,  0.1261875,  0.1238125,\n",
       "        0.1215   ,  0.12125  ,  0.12     ,  0.1199375,  0.118625 ,\n",
       "        0.117875 ,  0.1165   ,  0.11425  ,  0.1133125,  0.1124375,\n",
       "        0.1098125,  0.1094375,  0.1093125,  0.1091875,  0.1083125,\n",
       "        0.106875 ,  0.105125 ,  0.1044375,  0.1043125,  0.102875 ,\n",
       "        0.10125  ,  0.101125 ,  0.09975  ,  0.0994375,  0.09875  ])"
      ]
     },
     "execution_count": 58,
     "metadata": {},
     "output_type": "execute_result"
    }
   ],
   "source": [
    "percentHbond_sort[100:400]"
   ]
  },
  {
   "cell_type": "code",
   "execution_count": null,
   "metadata": {},
   "outputs": [],
   "source": []
  },
  {
   "cell_type": "code",
   "execution_count": null,
   "metadata": {},
   "outputs": [],
   "source": []
  }
 ],
 "metadata": {
  "kernelspec": {
   "display_name": "Python 3",
   "language": "python",
   "name": "python3"
  },
  "language_info": {
   "codemirror_mode": {
    "name": "ipython",
    "version": 3
   },
   "file_extension": ".py",
   "mimetype": "text/x-python",
   "name": "python",
   "nbconvert_exporter": "python",
   "pygments_lexer": "ipython3",
   "version": "3.6.10"
  }
 },
 "nbformat": 4,
 "nbformat_minor": 4
}
